{
 "cells": [
  {
   "cell_type": "code",
   "execution_count": 20,
   "metadata": {},
   "outputs": [],
   "source": [
    "# Setup and helper function definition\n",
    "\n",
    "%matplotlib inline\n",
    "import numpy as np\n",
    "import matplotlib.pyplot as plt\n",
    "import pandas as pds\n",
    "\n",
    "def round_to_1(x):\n",
    "    return round(x, -int(np.floor(np.log10(abs(x)))))\n",
    "\n",
    "\n",
    "in_to_cm = lambda x: 2.54*x\n",
    "w_to_f = lambda w: w/(2*np.pi)\n",
    "\n",
    "data = pds.read_csv(\"air_track.csv\")"
   ]
  },
  {
   "cell_type": "code",
   "execution_count": 22,
   "metadata": {},
   "outputs": [
    {
     "name": "stdout",
     "output_type": "stream",
     "text": [
      "f:  0.24906331164659673\n",
      "f:  0.49199385796671347\n",
      "f:  0.7228098826696895\n",
      "f:  0.9358279291928703\n",
      "f:  1.1258027862644906\n",
      "f:  1.2880566424130442\n",
      "f:  1.4185942692104778\n",
      "f:  1.5142013970554942\n",
      "f:  1.5725238611586825\n"
     ]
    }
   ],
   "source": [
    "extensions = data.initial - data.final\n",
    "\n",
    "m = 19.99e-3\n",
    "\n",
    "g = 9.81\n",
    "del_x = extensions.mean()*1e-2\n",
    "\n",
    "s = (m*g)/del_x\n",
    "\n",
    "w = lambda m, K, M: 2*np.sqrt(K/M)*np.sin((np.pi*m)/20)\n",
    "\n",
    "for i in range(9):\n",
    "    print(\"f: \", w_to_f(w(i+1, s, 0.184)))"
   ]
  },
  {
   "cell_type": "code",
   "execution_count": null,
   "metadata": {},
   "outputs": [],
   "source": []
  }
 ],
 "metadata": {
  "kernelspec": {
   "display_name": "Python 3",
   "language": "python",
   "name": "python3"
  },
  "language_info": {
   "codemirror_mode": {
    "name": "ipython",
    "version": 3
   },
   "file_extension": ".py",
   "mimetype": "text/x-python",
   "name": "python",
   "nbconvert_exporter": "python",
   "pygments_lexer": "ipython3",
   "version": "3.7.1"
  }
 },
 "nbformat": 4,
 "nbformat_minor": 2
}
